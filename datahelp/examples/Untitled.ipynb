{
 "cells": [
  {
   "cell_type": "code",
   "execution_count": 1,
   "id": "b9938875-ef32-4bec-971d-273be842407d",
   "metadata": {
    "tags": []
   },
   "outputs": [],
   "source": [
    "!pip install -q keras-core"
   ]
  },
  {
   "cell_type": "code",
   "execution_count": 2,
   "id": "b26762cf-5615-4022-b9e5-5c7a04c2e45a",
   "metadata": {
    "tags": []
   },
   "outputs": [],
   "source": [
    "import os\n",
    "import numpy as np"
   ]
  },
  {
   "cell_type": "code",
   "execution_count": 4,
   "id": "507f6394-26e5-4739-bcf2-2f41a62e6b6d",
   "metadata": {
    "tags": []
   },
   "outputs": [],
   "source": [
    "os.environ[\"KERAS_BACKEND\"] = \"jax\""
   ]
  },
  {
   "cell_type": "code",
   "execution_count": null,
   "id": "e5891eb8-2a3d-4085-ac05-fe712557477f",
   "metadata": {},
   "outputs": [],
   "source": []
  }
 ],
 "metadata": {
  "kernelspec": {
   "display_name": "Python 3 (ipykernel)",
   "language": "python",
   "name": "python3"
  },
  "language_info": {
   "codemirror_mode": {
    "name": "ipython",
    "version": 3
   },
   "file_extension": ".py",
   "mimetype": "text/x-python",
   "name": "python",
   "nbconvert_exporter": "python",
   "pygments_lexer": "ipython3",
   "version": "3.10.6"
  }
 },
 "nbformat": 4,
 "nbformat_minor": 5
}
